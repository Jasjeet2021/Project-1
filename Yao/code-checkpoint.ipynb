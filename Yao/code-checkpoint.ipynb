{
 "cells": [
  {
   "cell_type": "code",
   "execution_count": 11,
   "id": "8d3e69bb-5929-4ee1-b156-e5f2507f10b9",
   "metadata": {},
   "outputs": [],
   "source": [
    "import os\n",
    "import csv\n",
    "import pandas as pd"
   ]
  },
  {
   "cell_type": "code",
   "execution_count": 12,
   "id": "ad095dc2-ebfa-4d25-968a-bc6e99beca52",
   "metadata": {},
   "outputs": [],
   "source": [
    "data_file1 = \"Resources/Table 43a Full-time Equivalent Students, 2006-2020 (5).xlsx\""
   ]
  },
  {
   "cell_type": "code",
   "execution_count": 15,
   "id": "ebf167cb-c3fc-4eb8-99b4-6961261dd35b",
   "metadata": {},
   "outputs": [
    {
     "data": {
      "text/plain": [
       "{2:                          Australian Bureau of Statistics       Unnamed: 1  \\\n",
       " 0                               Schools, Australia, 2020              NaN   \n",
       " 1      Released at 11.30am (Canberra time) Friday, 19...              NaN   \n",
       " 2      Table 43a Full-time Equivalent Students by Aff...              NaN   \n",
       " 3                                                   Year  State/Territory   \n",
       " 4                                                   2020            a NSW   \n",
       " ...                                                  ...              ...   \n",
       " 14153  (e) In 2019, the structure of schooling for a ...              NaN   \n",
       " 14154  (f) In 2015, the structure of schooling in Que...              NaN   \n",
       " 14155  (g) See the Explanatory Notes for further deta...              NaN   \n",
       " 14156                                                NaN              NaN   \n",
       " 14157                   © Commonwealth of Australia 2021              NaN   \n",
       " \n",
       "                       Unnamed: 2                  Unnamed: 3   Unnamed: 4  \\\n",
       " 0                            NaN                         NaN          NaN   \n",
       " 1                            NaN                         NaN          NaN   \n",
       " 2                            NaN                         NaN          NaN   \n",
       " 3      Affiliation (Gov/Non-gov)  Affiliation (Gov/Cath/Ind)        FT/PT   \n",
       " 4                   a Government                a Government  a Full-time   \n",
       " ...                          ...                         ...          ...   \n",
       " 14153                        NaN                         NaN          NaN   \n",
       " 14154                        NaN                         NaN          NaN   \n",
       " 14155                        NaN                         NaN          NaN   \n",
       " 14156                        NaN                         NaN          NaN   \n",
       " 14157                        NaN                         NaN          NaN   \n",
       " \n",
       "       Unnamed: 5        Unnamed: 6  \\\n",
       " 0            NaN               NaN   \n",
       " 1            NaN               NaN   \n",
       " 2            NaN               NaN   \n",
       " 3            Sex      School Level   \n",
       " 4         a Male  a Primary School   \n",
       " ...          ...               ...   \n",
       " 14153        NaN               NaN   \n",
       " 14154        NaN               NaN   \n",
       " 14155        NaN               NaN   \n",
       " 14156        NaN               NaN   \n",
       " 14157        NaN               NaN   \n",
       " \n",
       "                                             Unnamed: 7  \\\n",
       " 0                                                  NaN   \n",
       " 1                                                  NaN   \n",
       " 2                                                  NaN   \n",
       " 3      National Report on Schooling (ANR) School Level   \n",
       " 4                                     a Primary School   \n",
       " ...                                                ...   \n",
       " 14153                                              NaN   \n",
       " 14154                                              NaN   \n",
       " 14155                                              NaN   \n",
       " 14156                                              NaN   \n",
       " 14157                                              NaN   \n",
       " \n",
       "                            Unnamed: 8  \\\n",
       " 0                                 NaN   \n",
       " 1                                 NaN   \n",
       " 2                                 NaN   \n",
       " 3                        Year (Grade)   \n",
       " 4      a Pre-Year 1 (Foundation Year)   \n",
       " ...                               ...   \n",
       " 14153                             NaN   \n",
       " 14154                             NaN   \n",
       " 14155                             NaN   \n",
       " 14156                             NaN   \n",
       " 14157                             NaN   \n",
       " \n",
       "                                               Unnamed: 9  ... Unnamed: 32  \\\n",
       " 0                                                    NaN  ...         NaN   \n",
       " 1                                                    NaN  ...         NaN   \n",
       " 2                                                    NaN  ...         NaN   \n",
       " 3      FTE Aboriginal and Torres Strait Islander Stud...  ...         NaN   \n",
       " 4                                                   3102  ...         NaN   \n",
       " ...                                                  ...  ...         ...   \n",
       " 14153                                                NaN  ...         NaN   \n",
       " 14154                                                NaN  ...         NaN   \n",
       " 14155                                                NaN  ...         NaN   \n",
       " 14156                                                NaN  ...         NaN   \n",
       " 14157                                                NaN  ...         NaN   \n",
       " \n",
       "       Unnamed: 33  Unnamed: 34  Unnamed: 35  Unnamed: 36  Unnamed: 37  \\\n",
       " 0             NaN          NaN          NaN          NaN          NaN   \n",
       " 1             NaN          NaN          NaN          NaN          NaN   \n",
       " 2             NaN          NaN          NaN          NaN          NaN   \n",
       " 3             NaN          NaN          NaN          NaN          NaN   \n",
       " 4             NaN          NaN          NaN          NaN          NaN   \n",
       " ...           ...          ...          ...          ...          ...   \n",
       " 14153         NaN          NaN          NaN          NaN          NaN   \n",
       " 14154         NaN          NaN          NaN          NaN          NaN   \n",
       " 14155         NaN          NaN          NaN          NaN          NaN   \n",
       " 14156         NaN          NaN          NaN          NaN          NaN   \n",
       " 14157         NaN          NaN          NaN          NaN          NaN   \n",
       " \n",
       "        Unnamed: 38  Unnamed: 39  Unnamed: 40  Unnamed: 41  \n",
       " 0              NaN          NaN          NaN          NaN  \n",
       " 1              NaN          NaN          NaN          NaN  \n",
       " 2              NaN          NaN          NaN          NaN  \n",
       " 3              NaN          NaN          NaN          NaN  \n",
       " 4              NaN          NaN          NaN          NaN  \n",
       " ...            ...          ...          ...          ...  \n",
       " 14153          NaN          NaN          NaN          NaN  \n",
       " 14154          NaN          NaN          NaN          NaN  \n",
       " 14155          NaN          NaN          NaN          NaN  \n",
       " 14156          NaN          NaN          NaN          NaN  \n",
       " 14157          NaN          NaN          NaN          NaN  \n",
       " \n",
       " [14158 rows x 42 columns]}"
      ]
     },
     "execution_count": 15,
     "metadata": {},
     "output_type": "execute_result"
    }
   ],
   "source": [
    "data_file1_df = pd.read_excel(data_file1, sheet_name=[2])\n",
    "data_file1_df"
   ]
  },
  {
   "cell_type": "code",
   "execution_count": 16,
   "id": "b6d91578-1509-4069-8126-dcc2669856c0",
   "metadata": {},
   "outputs": [
    {
     "ename": "AttributeError",
     "evalue": "'dict' object has no attribute 'head'",
     "output_type": "error",
     "traceback": [
      "\u001b[1;31m---------------------------------------------------------------------------\u001b[0m",
      "\u001b[1;31mAttributeError\u001b[0m                            Traceback (most recent call last)",
      "\u001b[1;32m<ipython-input-16-f9550ca037f2>\u001b[0m in \u001b[0;36m<module>\u001b[1;34m\u001b[0m\n\u001b[1;32m----> 1\u001b[1;33m \u001b[0mdata_file1_df\u001b[0m\u001b[1;33m.\u001b[0m\u001b[0mhead\u001b[0m\u001b[1;33m(\u001b[0m\u001b[1;33m)\u001b[0m\u001b[1;33m\u001b[0m\u001b[1;33m\u001b[0m\u001b[0m\n\u001b[0m",
      "\u001b[1;31mAttributeError\u001b[0m: 'dict' object has no attribute 'head'"
     ]
    }
   ],
   "source": [
    "data_file1_df.head()"
   ]
  },
  {
   "cell_type": "code",
   "execution_count": null,
   "id": "599a7255-8bba-466c-8b69-c07ad1324b7c",
   "metadata": {},
   "outputs": [],
   "source": []
  },
  {
   "cell_type": "code",
   "execution_count": null,
   "id": "b4f4e242-1b51-43b9-822c-a09eb26821e1",
   "metadata": {},
   "outputs": [],
   "source": []
  },
  {
   "cell_type": "code",
   "execution_count": null,
   "id": "ba0234b1-d516-4621-bc7b-dcf18f5730e3",
   "metadata": {},
   "outputs": [],
   "source": []
  }
 ],
 "metadata": {
  "kernelspec": {
   "display_name": "Python 3",
   "language": "python",
   "name": "python3"
  },
  "language_info": {
   "codemirror_mode": {
    "name": "ipython",
    "version": 3
   },
   "file_extension": ".py",
   "mimetype": "text/x-python",
   "name": "python",
   "nbconvert_exporter": "python",
   "pygments_lexer": "ipython3",
   "version": "3.8.8"
  }
 },
 "nbformat": 4,
 "nbformat_minor": 5
}
